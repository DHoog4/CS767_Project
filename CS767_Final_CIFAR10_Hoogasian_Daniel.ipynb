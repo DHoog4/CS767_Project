{
 "cells": [
  {
   "cell_type": "code",
   "execution_count": null,
   "id": "oEipZiX8p0Pu",
   "metadata": {
    "colab": {
     "base_uri": "https://localhost:8080/"
    },
    "id": "oEipZiX8p0Pu",
    "outputId": "f746a011-0357-4dd5-f260-c5067af0b7b4",
    "pycharm": {
     "name": "#%%\n"
    }
   },
   "outputs": [
    {
     "name": "stdout",
     "output_type": "stream",
     "text": [
      "Mounted at /content/drive\n"
     ]
    }
   ],
   "source": [
    "from google.colab import drive\n",
    "drive.mount('/content/drive')"
   ]
  },
  {
   "cell_type": "code",
   "execution_count": null,
   "id": "0c1cb20d",
   "metadata": {
    "colab": {
     "base_uri": "https://localhost:8080/"
    },
    "id": "0c1cb20d",
    "outputId": "6db953cc-929f-47e5-ebb8-4409fa33905e",
    "pycharm": {
     "name": "#%%\n"
    }
   },
   "outputs": [
    {
     "name": "stdout",
     "output_type": "stream",
     "text": [
      "Downloading data from https://www.cs.toronto.edu/~kriz/cifar-10-python.tar.gz\n",
      "170498071/170498071 [==============================] - 7s 0us/step\n"
     ]
    }
   ],
   "source": [
    "'''\n",
    "Model adapted from:\n",
    "https://towardsdatascience.com/deep-learning-with-cifar-10-image-classification-64ab92110d79\n",
    "'''\n",
    "\n",
    "import tensorflow as tf\n",
    "from tensorflow.keras.datasets import cifar10\n",
    "import keras\n",
    "from keras import layers\n",
    "from keras.utils import img_to_array, load_img, to_categorical\n",
    "import matplotlib.pyplot as plt\n",
    "import pandas as pd\n",
    "import time\n",
    "from sklearn.model_selection import train_test_split\n",
    "import numpy as np\n",
    "\n",
    "# loading the dataset\n",
    "(X_train_full, y_train_full), (X_test, y_test)=cifar10.load_data()"
   ]
  },
  {
   "cell_type": "code",
   "execution_count": null,
   "id": "ipEVnankRQqF",
   "metadata": {
    "colab": {
     "base_uri": "https://localhost:8080/",
     "height": 406
    },
    "id": "ipEVnankRQqF",
    "outputId": "6941446f-da67-4fd8-8fac-39c72151c728",
    "pycharm": {
     "name": "#%%\n"
    }
   },
   "outputs": [
    {
     "data": {
      "image/png": "[encoded data removed]",
      "text/plain": [
       "<Figure size 640x480 with 1 Axes>"
      ]
     },
     "metadata": {},
     "output_type": "display_data"
    }
   ],
   "source": [
    "# Show data sample\n",
    "plt.imshow(X_train_full[1].astype('uint8'))\n",
    "plt.axis('off')\n",
    "plt.show()"
   ]
  },
  {
   "cell_type": "code",
   "execution_count": null,
   "id": "dd5dddb6",
   "metadata": {
    "id": "dd5dddb6",
    "pycharm": {
     "name": "#%%\n"
    }
   },
   "outputs": [],
   "source": [
    "# Clear any remaining sessions and set seed\n",
    "tf.keras.backend.clear_session()\n",
    "keras.utils.set_random_seed(767)\n",
    "\n",
    "# Drop frog (label \"6\") class as there is no frog class in other dataset\n",
    "# Create mask\n",
    "train_mask = y_train_full[:, 0] != 6\n",
    "test_mask = y_test[:, 0] != 6\n",
    "\n",
    "# Apply mask, removing unwanted elements\n",
    "X_train_full = X_train_full[train_mask]\n",
    "y_train_full = y_train_full[train_mask]\n",
    "\n",
    "X_test = X_test[test_mask]\n",
    "y_test = y_test[test_mask]\n",
    "\n",
    "# Apply one hot encoding\n",
    "y_train_full = to_categorical(y_train_full)\n",
    "y_test = to_categorical(y_test)\n",
    "\n",
    "# Remove masked element one hot encoding column\n",
    "selected_classes = [0,1,2,3,4,5,7,8,9]\n",
    "y_train_full = y_train_full[:, selected_classes]\n",
    "y_test = y_test[:, selected_classes]"
   ]
  },
  {
   "cell_type": "code",
   "execution_count": null,
   "id": "22c0268e",
   "metadata": {
    "colab": {
     "base_uri": "https://localhost:8080/"
    },
    "id": "22c0268e",
    "outputId": "9017159e-1e4a-442f-d7a7-524418de906c",
    "pycharm": {
     "name": "#%%\n"
    }
   },
   "outputs": [
    {
     "name": "stdout",
     "output_type": "stream",
     "text": [
      "(33750, 9) (11250, 9) (9000, 9)\n",
      "(33750, 32, 32, 3) (11250, 32, 32, 3) (9000, 32, 32, 3)\n"
     ]
    }
   ],
   "source": [
    "# Create copies for swapping label names\n",
    "y_train_full_swapped = y_train_full.copy()\n",
    "y_test_swapped = y_test.copy()\n",
    "\n",
    "# Swap numeric labels for \"automobile\" (1) and \"bird\" (2) classes\n",
    "y_train_full_swapped[y_train_full == 1] = 2\n",
    "y_train_full_swapped[y_train_full == 2] = 1\n",
    "\n",
    "y_test_swapped[y_test == 1] = 2\n",
    "y_test_swapped[y_test == 2] = 1\n",
    "\n",
    "# Split full train data into train and validation sets\n",
    "X_train, X_valid, y_train, y_valid = train_test_split(X_train_full,\n",
    "                                                      y_train_full_swapped)\n",
    "\n",
    "# Normalize data\n",
    "X_train_full = X_train_full/255.0\n",
    "X_train = X_train/255.0\n",
    "X_valid = X_valid/255.0\n",
    "X_test = X_test/255.0\n",
    "\n",
    "# Print data and shapes\n",
    "print(y_train.shape, y_valid.shape, y_test.shape)\n",
    "print(X_train.shape, X_valid.shape, X_test.shape)"
   ]
  },
  {
   "cell_type": "code",
   "execution_count": null,
   "id": "01686528",
   "metadata": {
    "id": "01686528",
    "pycharm": {
     "name": "#%%\n"
    }
   },
   "outputs": [],
   "source": [
    "# Instantiate early stopping callback\n",
    "early_stopping_cb = tf.keras.callbacks.EarlyStopping(monitor='categorical_accuracy',\n",
    "                                                     patience=10, restore_best_weights=True)"
   ]
  },
  {
   "cell_type": "code",
   "execution_count": null,
   "id": "c8cc1a9d",
   "metadata": {
    "id": "c8cc1a9d",
    "pycharm": {
     "name": "#%%\n"
    }
   },
   "outputs": [],
   "source": [
    "# Build convolutional neural network model function\n",
    "def build_cnn(input_shape):\n",
    "    model=tf.keras.models.Sequential()\n",
    "    model.add(tf.keras.layers.Conv2D(filters=32,kernel_size=3,padding=\"same\",\n",
    "                                            activation=\"relu\", input_shape=input_shape))\n",
    "    model.add(tf.keras.layers.BatchNormalization())\n",
    "    model.add(tf.keras.layers.Conv2D(filters=32,kernel_size=3,\n",
    "                                            padding=\"same\", activation=\"relu\"))\n",
    "    model.add(tf.keras.layers.BatchNormalization())\n",
    "    model.add(tf.keras.layers.MaxPool2D(pool_size=2,strides=2,padding='valid'))\n",
    "    model.add(tf.keras.layers.Conv2D(filters=64,kernel_size=3,padding=\"same\",\n",
    "                                            activation=\"relu\"))\n",
    "    model.add(tf.keras.layers.BatchNormalization())\n",
    "    model.add(tf.keras.layers.Conv2D(filters=64,kernel_size=3,padding=\"same\",\n",
    "                                            activation=\"relu\"))\n",
    "    model.add(tf.keras.layers.BatchNormalization())\n",
    "    model.add(tf.keras.layers.MaxPool2D(pool_size=2,strides=2,padding='valid'))\n",
    "    model.add(tf.keras.layers.BatchNormalization())\n",
    "    model.add(tf.keras.layers.Flatten())\n",
    "    model.add(tf.keras.layers.Dense(units=128,activation='relu'))\n",
    "    model.add(tf.keras.layers.Dropout(0.5))\n",
    "    model.add(tf.keras.layers.Dense(units=9,activation='softmax'))\n",
    "    return model"
   ]
  },
  {
   "cell_type": "code",
   "execution_count": null,
   "id": "abffab3b",
   "metadata": {
    "colab": {
     "base_uri": "https://localhost:8080/"
    },
    "id": "abffab3b",
    "outputId": "5314a8a9-2e92-4ed6-e19b-bd7b2b61930c",
    "pycharm": {
     "name": "#%%\n"
    }
   },
   "outputs": [
    {
     "name": "stdout",
     "output_type": "stream",
     "text": [
      "Epoch 1/30\n",
      "1407/1407 [==============================] - 26s 8ms/step - loss: 1.4701 - categorical_accuracy: 0.4614 - val_loss: 1.0989 - val_categorical_accuracy: 0.5923\n",
      "Epoch 2/30\n",
      "1407/1407 [==============================] - 11s 8ms/step - loss: 1.0683 - categorical_accuracy: 0.6155 - val_loss: 0.8661 - val_categorical_accuracy: 0.7000\n",
      "Epoch 3/30\n",
      "1407/1407 [==============================] - 12s 8ms/step - loss: 0.8974 - categorical_accuracy: 0.6821 - val_loss: 0.8859 - val_categorical_accuracy: 0.6868\n",
      "Epoch 4/30\n",
      "1407/1407 [==============================] - 13s 9ms/step - loss: 0.7751 - categorical_accuracy: 0.7271 - val_loss: 0.7532 - val_categorical_accuracy: 0.7421\n",
      "Epoch 5/30\n",
      "1407/1407 [==============================] - 12s 9ms/step - loss: 0.6774 - categorical_accuracy: 0.7599 - val_loss: 0.6933 - val_categorical_accuracy: 0.7543\n",
      "Epoch 6/30\n",
      "1407/1407 [==============================] - 11s 7ms/step - loss: 0.6077 - categorical_accuracy: 0.7852 - val_loss: 0.6828 - val_categorical_accuracy: 0.7634\n",
      "Epoch 7/30\n",
      "1407/1407 [==============================] - 11s 8ms/step - loss: 0.5492 - categorical_accuracy: 0.8057 - val_loss: 0.7753 - val_categorical_accuracy: 0.7352\n",
      "Epoch 8/30\n",
      "1407/1407 [==============================] - 12s 9ms/step - loss: 0.4957 - categorical_accuracy: 0.8251 - val_loss: 0.6886 - val_categorical_accuracy: 0.7708\n",
      "Epoch 9/30\n",
      "1407/1407 [==============================] - 12s 8ms/step - loss: 0.4455 - categorical_accuracy: 0.8439 - val_loss: 0.7224 - val_categorical_accuracy: 0.7778\n",
      "Epoch 10/30\n",
      "1407/1407 [==============================] - 11s 8ms/step - loss: 0.4025 - categorical_accuracy: 0.8577 - val_loss: 0.6998 - val_categorical_accuracy: 0.7653\n",
      "Epoch 11/30\n",
      "1407/1407 [==============================] - 10s 7ms/step - loss: 0.3771 - categorical_accuracy: 0.8658 - val_loss: 0.7006 - val_categorical_accuracy: 0.7778\n",
      "Epoch 12/30\n",
      "1407/1407 [==============================] - 12s 8ms/step - loss: 0.3475 - categorical_accuracy: 0.8767 - val_loss: 0.7125 - val_categorical_accuracy: 0.7812\n",
      "Epoch 13/30\n",
      "1407/1407 [==============================] - 11s 8ms/step - loss: 0.3180 - categorical_accuracy: 0.8852 - val_loss: 0.7748 - val_categorical_accuracy: 0.7928\n",
      "Epoch 14/30\n",
      "1407/1407 [==============================] - 12s 9ms/step - loss: 0.2966 - categorical_accuracy: 0.8938 - val_loss: 0.8248 - val_categorical_accuracy: 0.7859\n",
      "Epoch 15/30\n",
      "1407/1407 [==============================] - 12s 9ms/step - loss: 0.2769 - categorical_accuracy: 0.9020 - val_loss: 0.7670 - val_categorical_accuracy: 0.7943\n",
      "Epoch 16/30\n",
      "1407/1407 [==============================] - 10s 7ms/step - loss: 0.2685 - categorical_accuracy: 0.9042 - val_loss: 0.7698 - val_categorical_accuracy: 0.8052\n",
      "Epoch 17/30\n",
      "1407/1407 [==============================] - 12s 8ms/step - loss: 0.2527 - categorical_accuracy: 0.9102 - val_loss: 0.7932 - val_categorical_accuracy: 0.7933\n",
      "Epoch 18/30\n",
      "1407/1407 [==============================] - 12s 8ms/step - loss: 0.2363 - categorical_accuracy: 0.9154 - val_loss: 0.9137 - val_categorical_accuracy: 0.7656\n",
      "Epoch 19/30\n",
      "1407/1407 [==============================] - 12s 8ms/step - loss: 0.2301 - categorical_accuracy: 0.9180 - val_loss: 0.8210 - val_categorical_accuracy: 0.7982\n",
      "Epoch 20/30\n",
      "1407/1407 [==============================] - 11s 8ms/step - loss: 0.2139 - categorical_accuracy: 0.9236 - val_loss: 0.8705 - val_categorical_accuracy: 0.7881\n",
      "Epoch 21/30\n",
      "1407/1407 [==============================] - 10s 7ms/step - loss: 0.2080 - categorical_accuracy: 0.9262 - val_loss: 0.8668 - val_categorical_accuracy: 0.7903\n",
      "Epoch 22/30\n",
      "1407/1407 [==============================] - 11s 8ms/step - loss: 0.1960 - categorical_accuracy: 0.9302 - val_loss: 0.8978 - val_categorical_accuracy: 0.7802\n",
      "Epoch 23/30\n",
      "1407/1407 [==============================] - 12s 8ms/step - loss: 0.1969 - categorical_accuracy: 0.9305 - val_loss: 0.9065 - val_categorical_accuracy: 0.7939\n",
      "Epoch 24/30\n",
      "1407/1407 [==============================] - 11s 8ms/step - loss: 0.1906 - categorical_accuracy: 0.9324 - val_loss: 0.8555 - val_categorical_accuracy: 0.8016\n",
      "Epoch 25/30\n",
      "1407/1407 [==============================] - 11s 8ms/step - loss: 0.1743 - categorical_accuracy: 0.9371 - val_loss: 0.8405 - val_categorical_accuracy: 0.8007\n",
      "Epoch 26/30\n",
      "1407/1407 [==============================] - 11s 8ms/step - loss: 0.1767 - categorical_accuracy: 0.9365 - val_loss: 0.8811 - val_categorical_accuracy: 0.7984\n",
      "Epoch 27/30\n",
      "1407/1407 [==============================] - 11s 8ms/step - loss: 0.1724 - categorical_accuracy: 0.9386 - val_loss: 0.9350 - val_categorical_accuracy: 0.7981\n",
      "Epoch 28/30\n",
      "1407/1407 [==============================] - 11s 8ms/step - loss: 0.1644 - categorical_accuracy: 0.9425 - val_loss: 0.8961 - val_categorical_accuracy: 0.7940\n",
      "Epoch 29/30\n",
      "1407/1407 [==============================] - 11s 8ms/step - loss: 0.1648 - categorical_accuracy: 0.9413 - val_loss: 1.0435 - val_categorical_accuracy: 0.8058\n",
      "Epoch 30/30\n",
      "1407/1407 [==============================] - 11s 8ms/step - loss: 0.1580 - categorical_accuracy: 0.9443 - val_loss: 0.9380 - val_categorical_accuracy: 0.8019\n",
      "Model: \"sequential\"\n",
      "_________________________________________________________________\n",
      " Layer (type)                Output Shape              Param #   \n",
      "=================================================================\n",
      " conv2d (Conv2D)             (None, 32, 32, 32)        896       \n",
      "                                                                 \n",
      " batch_normalization (BatchN  (None, 32, 32, 32)       128       \n",
      " ormalization)                                                   \n",
      "                                                                 \n",
      " conv2d_1 (Conv2D)           (None, 32, 32, 32)        9248      \n",
      "                                                                 \n",
      " batch_normalization_1 (Batc  (None, 32, 32, 32)       128       \n",
      " hNormalization)                                                 \n",
      "                                                                 \n",
      " max_pooling2d (MaxPooling2D  (None, 16, 16, 32)       0         \n",
      " )                                                               \n",
      "                                                                 \n",
      " conv2d_2 (Conv2D)           (None, 16, 16, 64)        18496     \n",
      "                                                                 \n",
      " batch_normalization_2 (Batc  (None, 16, 16, 64)       256       \n",
      " hNormalization)                                                 \n",
      "                                                                 \n",
      " conv2d_3 (Conv2D)           (None, 16, 16, 64)        36928     \n",
      "                                                                 \n",
      " batch_normalization_3 (Batc  (None, 16, 16, 64)       256       \n",
      " hNormalization)                                                 \n",
      "                                                                 \n",
      " max_pooling2d_1 (MaxPooling  (None, 8, 8, 64)         0         \n",
      " 2D)                                                             \n",
      "                                                                 \n",
      " batch_normalization_4 (Batc  (None, 8, 8, 64)         256       \n",
      " hNormalization)                                                 \n",
      "                                                                 \n",
      " flatten (Flatten)           (None, 4096)              0         \n",
      "                                                                 \n",
      " dense (Dense)               (None, 128)               524416    \n",
      "                                                                 \n",
      " dropout (Dropout)           (None, 128)               0         \n",
      "                                                                 \n",
      " dense_1 (Dense)             (None, 9)                 1161      \n",
      "                                                                 \n",
      "=================================================================\n",
      "Total params: 592,169\n",
      "Trainable params: 591,657\n",
      "Non-trainable params: 512\n",
      "_________________________________________________________________\n",
      "282/282 [==============================] - 1s 5ms/step - loss: 0.9380 - categorical_accuracy: 0.8019\n",
      "Loss: 0.94\n",
      "Accuracy: 0.8\n"
     ]
    },
    {
     "name": "stderr",
     "output_type": "stream",
     "text": [
      "WARNING:absl:Found untraced functions such as _jit_compiled_convolution_op, _jit_compiled_convolution_op, _jit_compiled_convolution_op, _jit_compiled_convolution_op while saving (showing 4 of 4). These functions will not be directly callable after loading.\n"
     ]
    }
   ],
   "source": [
    "# Create image size variable\n",
    "input_shape = X_train.shape[1:]\n",
    "\n",
    "# Instantiate and compile model\n",
    "model = build_cnn(input_shape)\n",
    "\n",
    "model.compile(loss=\"categorical_crossentropy\",\n",
    "                      optimizer=\"Adam\", metrics=[\"categorical_accuracy\"])\n",
    "\n",
    "# Fit model with full training data, show evaluation metrics, and save model\n",
    "history = model.fit(X_train_full, y_train_full, epochs=30, validation_data=(X_test, y_test),\n",
    "                   callbacks=[early_stopping_cb])\n",
    "model.summary()\n",
    "\n",
    "loss, accuracy = model.evaluate(X_test, y_test)\n",
    "print('Loss:', round(loss, 2))\n",
    "print('Accuracy:', round(accuracy, 2))\n",
    "\n",
    "model.save('/content/drive/MyDrive/Colab Notebooks/CIFAR10_model', overwrite=True, save_format='tf')"
   ]
  },
  {
   "cell_type": "code",
   "execution_count": null,
   "id": "E7o7ecvpGEh4",
   "metadata": {
    "colab": {
     "base_uri": "https://localhost:8080/",
     "height": 487
    },
    "id": "E7o7ecvpGEh4",
    "outputId": "544adeb9-9d42-47ed-9d05-44f8c5e886bc",
    "pycharm": {
     "name": "#%%\n"
    }
   },
   "outputs": [
    {
     "data": {
      "image/png": "[encoded data removed]",
      "text/plain": [
       "<Figure size 800x500 with 1 Axes>"
      ]
     },
     "metadata": {},
     "output_type": "display_data"
    }
   ],
   "source": [
    "# Plot training vs validation accuracy and loss (indicates some issues)\n",
    "pd.DataFrame(history.history).plot(\n",
    "    figsize=(8, 5), xlim=[0,30], ylim=[0, 1.6], title=\"Validation vs Training Scores\", grid=True, xlabel=\"Epoch\",\n",
    "    style=[\"r--\", \"r--.\", \"b-\", \"b-*\"])\n",
    "plt.show()"
   ]
  },
  {
   "cell_type": "code",
   "execution_count": null,
   "id": "eff4834f",
   "metadata": {
    "colab": {
     "base_uri": "https://localhost:8080/",
     "height": 779
    },
    "id": "eff4834f",
    "outputId": "3bfc802f-0950-4e3c-9967-c45a4278316a",
    "pycharm": {
     "name": "#%%\n"
    }
   },
   "outputs": [
    {
     "name": "stdout",
     "output_type": "stream",
     "text": [
      "Epoch 1/30\n"
     ]
    },
    {
     "ename": "ValueError",
     "evalue": "ignored",
     "output_type": "error",
     "traceback": [
      "\u001B[0;31m---------------------------------------------------------------------------\u001B[0m",
      "\u001B[0;31mValueError\u001B[0m                                Traceback (most recent call last)",
      "\u001B[0;32m<ipython-input-10-92e9f3e18d3c>\u001B[0m in \u001B[0;36m<cell line: 12>\u001B[0;34m()\u001B[0m\n\u001B[1;32m     10\u001B[0m STL_to_CIFAR_model.compile(loss=\"categorical_crossentropy\",\n\u001B[1;32m     11\u001B[0m                       optimizer=\"Adam\", metrics=[\"categorical_accuracy\"])\n\u001B[0;32m---> 12\u001B[0;31m STL_to_CIFAR_model.fit(X_train_full, y_train_full,epochs=30,\n\u001B[0m\u001B[1;32m     13\u001B[0m                    callbacks=[early_stopping_cb])\n\u001B[1;32m     14\u001B[0m \u001B[0;34m\u001B[0m\u001B[0m\n",
      "\u001B[0;32m/usr/local/lib/python3.10/dist-packages/keras/utils/traceback_utils.py\u001B[0m in \u001B[0;36merror_handler\u001B[0;34m(*args, **kwargs)\u001B[0m\n\u001B[1;32m     68\u001B[0m             \u001B[0;31m# To get the full stack trace, call:\u001B[0m\u001B[0;34m\u001B[0m\u001B[0;34m\u001B[0m\u001B[0m\n\u001B[1;32m     69\u001B[0m             \u001B[0;31m# `tf.debugging.disable_traceback_filtering()`\u001B[0m\u001B[0;34m\u001B[0m\u001B[0;34m\u001B[0m\u001B[0m\n\u001B[0;32m---> 70\u001B[0;31m             \u001B[0;32mraise\u001B[0m \u001B[0me\u001B[0m\u001B[0;34m.\u001B[0m\u001B[0mwith_traceback\u001B[0m\u001B[0;34m(\u001B[0m\u001B[0mfiltered_tb\u001B[0m\u001B[0;34m)\u001B[0m \u001B[0;32mfrom\u001B[0m \u001B[0;32mNone\u001B[0m\u001B[0;34m\u001B[0m\u001B[0;34m\u001B[0m\u001B[0m\n\u001B[0m\u001B[1;32m     71\u001B[0m         \u001B[0;32mfinally\u001B[0m\u001B[0;34m:\u001B[0m\u001B[0;34m\u001B[0m\u001B[0;34m\u001B[0m\u001B[0m\n\u001B[1;32m     72\u001B[0m             \u001B[0;32mdel\u001B[0m \u001B[0mfiltered_tb\u001B[0m\u001B[0;34m\u001B[0m\u001B[0;34m\u001B[0m\u001B[0m\n",
      "\u001B[0;32m/usr/local/lib/python3.10/dist-packages/keras/engine/training.py\u001B[0m in \u001B[0;36mtf__train_function\u001B[0;34m(iterator)\u001B[0m\n\u001B[1;32m     13\u001B[0m                 \u001B[0;32mtry\u001B[0m\u001B[0;34m:\u001B[0m\u001B[0;34m\u001B[0m\u001B[0;34m\u001B[0m\u001B[0m\n\u001B[1;32m     14\u001B[0m                     \u001B[0mdo_return\u001B[0m \u001B[0;34m=\u001B[0m \u001B[0;32mTrue\u001B[0m\u001B[0;34m\u001B[0m\u001B[0;34m\u001B[0m\u001B[0m\n\u001B[0;32m---> 15\u001B[0;31m                     \u001B[0mretval_\u001B[0m \u001B[0;34m=\u001B[0m \u001B[0mag__\u001B[0m\u001B[0;34m.\u001B[0m\u001B[0mconverted_call\u001B[0m\u001B[0;34m(\u001B[0m\u001B[0mag__\u001B[0m\u001B[0;34m.\u001B[0m\u001B[0mld\u001B[0m\u001B[0;34m(\u001B[0m\u001B[0mstep_function\u001B[0m\u001B[0;34m)\u001B[0m\u001B[0;34m,\u001B[0m \u001B[0;34m(\u001B[0m\u001B[0mag__\u001B[0m\u001B[0;34m.\u001B[0m\u001B[0mld\u001B[0m\u001B[0;34m(\u001B[0m\u001B[0mself\u001B[0m\u001B[0;34m)\u001B[0m\u001B[0;34m,\u001B[0m \u001B[0mag__\u001B[0m\u001B[0;34m.\u001B[0m\u001B[0mld\u001B[0m\u001B[0;34m(\u001B[0m\u001B[0miterator\u001B[0m\u001B[0;34m)\u001B[0m\u001B[0;34m)\u001B[0m\u001B[0;34m,\u001B[0m \u001B[0;32mNone\u001B[0m\u001B[0;34m,\u001B[0m \u001B[0mfscope\u001B[0m\u001B[0;34m)\u001B[0m\u001B[0;34m\u001B[0m\u001B[0;34m\u001B[0m\u001B[0m\n\u001B[0m\u001B[1;32m     16\u001B[0m                 \u001B[0;32mexcept\u001B[0m\u001B[0;34m:\u001B[0m\u001B[0;34m\u001B[0m\u001B[0;34m\u001B[0m\u001B[0m\n\u001B[1;32m     17\u001B[0m                     \u001B[0mdo_return\u001B[0m \u001B[0;34m=\u001B[0m \u001B[0;32mFalse\u001B[0m\u001B[0;34m\u001B[0m\u001B[0;34m\u001B[0m\u001B[0m\n",
      "\u001B[0;31mValueError\u001B[0m: in user code:\n\n    File \"/usr/local/lib/python3.10/dist-packages/keras/engine/training.py\", line 1284, in train_function  *\n        return step_function(self, iterator)\n    File \"/usr/local/lib/python3.10/dist-packages/keras/engine/training.py\", line 1268, in step_function  **\n        outputs = model.distribute_strategy.run(run_step, args=(data,))\n    File \"/usr/local/lib/python3.10/dist-packages/keras/engine/training.py\", line 1249, in run_step  **\n        outputs = model.train_step(data)\n    File \"/usr/local/lib/python3.10/dist-packages/keras/engine/training.py\", line 1050, in train_step\n        y_pred = self(x, training=True)\n    File \"/usr/local/lib/python3.10/dist-packages/keras/utils/traceback_utils.py\", line 70, in error_handler\n        raise e.with_traceback(filtered_tb) from None\n    File \"/usr/local/lib/python3.10/dist-packages/keras/engine/input_spec.py\", line 298, in assert_input_compatibility\n        raise ValueError(\n\n    ValueError: Exception encountered when calling layer 'sequential_1' (type Sequential).\n    \n    Input 0 of layer \"sequential\" is incompatible with the layer: expected shape=(None, 96, 96, 3), found shape=(None, 32, 32, 3)\n    \n    Call arguments received by layer 'sequential_1' (type Sequential):\n      • inputs=tf.Tensor(shape=(None, 32, 32, 3), dtype=float32)\n      • training=True\n      • mask=None\n"
     ]
    }
   ],
   "source": [
    "# Attempt transfer learning with STL-10 model on CIFAR-10 dataset\n",
    "\n",
    "# Load and clone model\n",
    "orig_model = keras.models.load_model(\"/content/drive/MyDrive/Colab Notebooks/STL10_model\")\n",
    "orig_model_clone = keras.models.clone_model(orig_model)\n",
    "orig_model_clone.set_weights(orig_model.get_weights())\n",
    "\n",
    "STL_to_CIFAR_model = keras.Sequential(orig_model_clone.layers[:])\n",
    "\n",
    "STL_to_CIFAR_model.compile(loss=\"categorical_crossentropy\",\n",
    "                      optimizer=\"Adam\", metrics=[\"categorical_accuracy\"])\n",
    "STL_to_CIFAR_model.fit(X_train_full, y_train_full,epochs=30,\n",
    "                   callbacks=[early_stopping_cb])\n",
    "\n",
    "loss, accuracy = STL_to_CIFAR_model.evaluate(X_test, y_test)\n",
    "print('Loss:', round(loss, 2))\n",
    "print('Accuracy:', round(accuracy, 2))"
   ]
  }
 ],
 "metadata": {
  "accelerator": "GPU",
  "colab": {
   "gpuType": "V100",
   "provenance": []
  },
  "kernelspec": {
   "display_name": "Python 3 (ipykernel)",
   "language": "python",
   "name": "python3"
  },
  "language_info": {
   "codemirror_mode": {
    "name": "ipython",
    "version": 3
   },
   "file_extension": ".py",
   "mimetype": "text/x-python",
   "name": "python",
   "nbconvert_exporter": "python",
   "pygments_lexer": "ipython3",
   "version": "3.9.12"
  }
 },
 "nbformat": 4,
 "nbformat_minor": 5
}